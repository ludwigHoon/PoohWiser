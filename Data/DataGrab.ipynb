{
 "cells": [
  {
   "cell_type": "markdown",
   "metadata": {},
   "source": [
    "# Getting data from OpenLab"
   ]
  },
  {
   "cell_type": "code",
   "execution_count": 2,
   "metadata": {},
   "outputs": [],
   "source": [
    "import json\n",
    "\n",
    "with open('Accounts') as json_file:  \n",
    "    data = json.load(json_file)"
   ]
  },
  {
   "cell_type": "markdown",
   "metadata": {},
   "source": [
    "In data: (1) Power Users; (2) Customers"
   ]
  },
  {
   "cell_type": "code",
   "execution_count": null,
   "metadata": {},
   "outputs": [
    {
     "name": "stdout",
     "output_type": "stream",
     "text": [
      "processing: Eleanor.Hk.02\n",
      "{'id': '8e23029c-9ff7-4938-8e9c-61bffcc89ce4', 'bank_id': 'hsbc.02.hk.hsbc', 'label': 'Eleanor.Hk.02 M35 17..841', 'number': '17703365841', 'owners': [{'id': 'Eleanor.Hk.02', 'provider': 'https://openlab.openbankproject.com', 'display_name': 'Eleanor.Hk.02'}], 'type': 'BUSINESS CURRENT', 'balance': {'currency': 'HKD', 'amount': '80532.96'}, 'account_routings': [{'scheme': 'OBP', 'address': '8e23029c-9ff7-4938-8e9c-61bffcc89ce4'}], 'account_rules': []}\n",
      "no account: 1\n",
      "processing: Elise.Hk.02\n",
      "{'id': '943847d4-13e3-4667-9850-48d816049215', 'bank_id': 'hsbc.02.hk.hsbc', 'label': 'Elise.Hk.02 M35 17..812', 'number': '17203174812', 'owners': [{'id': 'Elise.Hk.02', 'provider': 'https://openlab.openbankproject.com', 'display_name': 'Elise.Hk.02'}], 'type': 'CURRENT PLUS', 'balance': {'currency': 'HKD', 'amount': '5016.82'}, 'account_routings': [{'scheme': 'OBP', 'address': '943847d4-13e3-4667-9850-48d816049215'}], 'account_rules': []}\n",
      "no account: 1\n",
      "processing: Jean-paul.Hk.02\n",
      "{'id': 'e64442a2-a15e-425c-af36-77d70cbb7012', 'bank_id': 'hsbc.02.hk.hsbc', 'label': 'Jean-paul.Hk.02 M35 14..613', 'number': '14591045613', 'owners': [{'id': 'Jean-paul.Hk.02', 'provider': 'https://openlab.openbankproject.com', 'display_name': 'Jean-paul.Hk.02'}], 'type': 'CURRENT PLUS', 'balance': {'currency': 'HKD', 'amount': '6105.35'}, 'account_routings': [{'scheme': 'OBP', 'address': 'e64442a2-a15e-425c-af36-77d70cbb7012'}], 'account_rules': []}\n",
      "no account: 1\n",
      "{'id': '531a7fa8-9931-4b28-918c-addee9a4957a', 'bank_id': 'hsbc.02.hk.hsbc', 'label': 'Jean-paul.Hk.02 M35 18..015', 'number': '18624510015', 'owners': [{'id': 'Jean-paul.Hk.02', 'provider': 'https://openlab.openbankproject.com', 'display_name': 'Jean-paul.Hk.02'}], 'type': 'BUSINESS CURRENT', 'balance': {'currency': 'HKD', 'amount': '2877.72'}, 'account_routings': [{'scheme': 'OBP', 'address': '531a7fa8-9931-4b28-918c-addee9a4957a'}], 'account_rules': []}\n",
      "no account: 2\n",
      "{'id': '2e5a1fbc-86ca-4d29-bcee-9ef7a2372872', 'bank_id': 'hsbc.02.hk.hsbc', 'label': 'Jean-paul.Hk.02 M35 16..141', 'number': '16373194141', 'owners': [{'id': 'Jean-paul.Hk.02', 'provider': 'https://openlab.openbankproject.com', 'display_name': 'Jean-paul.Hk.02'}], 'type': 'Red Mastercard', 'balance': {'currency': 'HKD', 'amount': '5666.15'}, 'account_routings': [{'scheme': 'OBP', 'address': '2e5a1fbc-86ca-4d29-bcee-9ef7a2372872'}], 'account_rules': []}\n",
      "no account: 3\n",
      "processing: Simon.Hk.02\n",
      "{'id': '1924e509-f52a-401d-bf10-d911305194a5', 'bank_id': 'hsbc.02.hk.hsbc', 'label': 'Simon.Hk.02 M35 11..839', 'number': '11239838839', 'owners': [{'id': 'Simon.Hk.02', 'provider': 'https://openlab.openbankproject.com', 'display_name': 'Simon.Hk.02'}], 'type': 'CURRENT PLUS', 'balance': {'currency': 'HKD', 'amount': '92820.85'}, 'account_routings': [{'scheme': 'OBP', 'address': '1924e509-f52a-401d-bf10-d911305194a5'}], 'account_rules': []}\n",
      "no account: 1\n",
      "{'id': 'e0ad3b56-bad4-4781-9fba-3a0a1442abed', 'bank_id': 'hsbc.02.hk.hsbc', 'label': 'Simon.Hk.02 M35 12..828', 'number': '12142026828', 'owners': [{'id': 'Simon.Hk.02', 'provider': 'https://openlab.openbankproject.com', 'display_name': 'Simon.Hk.02'}], 'type': 'CURRENT PLUS', 'balance': {'currency': 'HKD', 'amount': '3003.45'}, 'account_routings': [{'scheme': 'OBP', 'address': 'e0ad3b56-bad4-4781-9fba-3a0a1442abed'}], 'account_rules': []}\n",
      "no account: 2\n"
     ]
    }
   ],
   "source": [
    "import requests\n",
    "import csv\n",
    "\n",
    "# It seems that most of the customers in the beginning are not loaded with transaction data \n",
    "\n",
    "for user in data[1][::-1][0:10]:\n",
    "    # login\n",
    "    url = 'https://openlab.openbankproject.com/my/logins/direct'\n",
    "    headers = {'Authorization': 'DirectLogin username=\"'+user['user_name']+'\", password=\"'+user['password']+'\",  consumer_key=\"menzvlhllhpwbtxav5x1dtwxufczc1fcvlh4ss3v\"',\n",
    "               'Content-Type': 'application/json'}\n",
    "    r=requests.post(url, headers=headers)\n",
    "    tok = json.loads(r.content.decode('utf-8'))['token']\n",
    "    # get accounts held by user\n",
    "    baseURL = 'https://openlab.openbankproject.com'\n",
    "    url = baseURL + '/obp/v3.1.0/banks/hsbc.02.hk.hsbc/accounts-held'\n",
    "    headers ={ 'Authorization': 'DirectLogin token=\"'+ tok +'\"'}\n",
    "    r=requests.get(url, headers=headers)\n",
    "\n",
    "    result=json.loads(r.content.decode('utf-8'))\n",
    "    accounts = result['accounts']\n",
    "    if(len(accounts)<1):\n",
    "        pass\n",
    "    print('processing: '+user['user_name'])\n",
    "    # Get transaction for each account\n",
    "    for ind in range(len(accounts)):\n",
    "        account = accounts[ind]\n",
    "        \n",
    "        # Get account balance\n",
    "        url = 'https://openlab.openbankproject.com/obp/v3.1.0/banks/hsbc.02.hk.hsbc/accounts/'+ account['id'] +'/owner/account'\n",
    "        headers = {\n",
    "            #'limit' : '100',\n",
    "            #'to_date' : '2019-06-12T00:00:00.000Z',\n",
    "            'Authorization': 'DirectLogin token=\"'+ tok +'\"'\n",
    "        }\n",
    "        r=requests.get(url, headers=headers)\n",
    "        results=json.loads(r.content.decode('utf-8'))\n",
    "        print(results)\n",
    "        # Get transaction\n",
    "        url = 'https://openlab.openbankproject.com/obp/v3.1.0/banks/hsbc.02.hk.hsbc/accounts/'+ account['id'] +'/owner/transactions'\n",
    "        headers = {\n",
    "            'limit' : '100',\n",
    "            'to_date' : '2019-06-11T00:00:00.000Z',\n",
    "            'Authorization': 'DirectLogin token=\"'+ tok +'\"'\n",
    "        }\n",
    "        r=requests.get(url, headers=headers)\n",
    "        \n",
    "        print('no account: ' + str(ind+1))\n",
    "        fileName = 't_'+user['user_name']+'a_'+str(ind)+'.csv'\n",
    "        results=json.loads(r.content.decode('utf-8'))\n",
    "        \n",
    "        fp=open(fileName, 'a+')\n",
    "        fp.write('description,completed,value,new_balance\\n')\n",
    "        for result in results['transactions']:\n",
    "            result=result['details']\n",
    "            a=[result[x] for x in ['description', 'completed', 'value', 'new_balance']]\n",
    "            a[2]=a[2]['amount'] + a[2]['currency']\n",
    "            a[3]=a[3]['amount'] + a[3]['currency']\n",
    "            wr = csv.writer(fp, dialect='excel')\n",
    "            wr.writerow(a)\n",
    "        fp.close()\n"
   ]
  },
  {
   "cell_type": "code",
   "execution_count": 119,
   "metadata": {},
   "outputs": [
    {
     "data": {
      "text/plain": [
       "dict_keys(['id', 'this_account', 'other_account', 'details', 'metadata'])"
      ]
     },
     "execution_count": 119,
     "metadata": {},
     "output_type": "execute_result"
    }
   ],
   "source": [
    "# Each transaction consist of:\n",
    "results['transactions'][0].keys()\n",
    "\n",
    "# Only used details here"
   ]
  },
  {
   "cell_type": "code",
   "execution_count": null,
   "metadata": {},
   "outputs": [],
   "source": [
    "results['transactions'][0]['details']"
   ]
  }
 ],
 "metadata": {
  "kernelspec": {
   "display_name": "Python 3",
   "language": "python",
   "name": "python3"
  },
  "language_info": {
   "codemirror_mode": {
    "name": "ipython",
    "version": 3
   },
   "file_extension": ".py",
   "mimetype": "text/x-python",
   "name": "python",
   "nbconvert_exporter": "python",
   "pygments_lexer": "ipython3",
   "version": "3.7.3"
  }
 },
 "nbformat": 4,
 "nbformat_minor": 2
}
