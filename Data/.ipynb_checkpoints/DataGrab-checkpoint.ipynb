{
 "cells": [
  {
   "cell_type": "markdown",
   "metadata": {},
   "source": [
    "# Getting data from OpenLab"
   ]
  },
  {
   "cell_type": "code",
   "execution_count": 1,
   "metadata": {},
   "outputs": [],
   "source": [
    "import json\n",
    "\n",
    "with open('Accounts') as json_file:  \n",
    "    data = json.load(json_file)"
   ]
  },
  {
   "cell_type": "markdown",
   "metadata": {},
   "source": [
    "In data: (1) Power Users; (2) Customers"
   ]
  },
  {
   "cell_type": "code",
   "execution_count": 2,
   "metadata": {},
   "outputs": [
    {
     "name": "stdout",
     "output_type": "stream",
     "text": [
      "processing: Eleanor.Hk.02\n",
      "no account: 1\n",
      "processing: Elise.Hk.02\n",
      "no account: 1\n",
      "processing: Jean-paul.Hk.02\n",
      "no account: 1\n",
      "no account: 2\n",
      "no account: 3\n",
      "processing: Simon.Hk.02\n",
      "no account: 1\n",
      "no account: 2\n",
      "processing: Wim.Hk.02\n",
      "no account: 1\n",
      "no account: 2\n",
      "no account: 3\n",
      "processing: Sebastien.Hk.02\n",
      "no account: 1\n",
      "no account: 2\n",
      "processing: Emma.Hk.02\n",
      "no account: 1\n",
      "processing: Jane.Hk.02\n",
      "no account: 1\n",
      "no account: 2\n",
      "processing: Dennis.Hk.02\n",
      "no account: 1\n",
      "no account: 2\n",
      "no account: 3\n",
      "processing: Chris.Hk.02\n",
      "no account: 1\n",
      "no account: 2\n"
     ]
    }
   ],
   "source": [
    "import requests\n",
    "import csv\n",
    "\n",
    "# It seems that most of the customers in the beginning are not loaded with transaction data \n",
    "\n",
    "for user in data[1][::-1][0:10]:\n",
    "    # login\n",
    "    url = 'https://openlab.openbankproject.com/my/logins/direct'\n",
    "    headers = {'Authorization': 'DirectLogin username=\"'+user['user_name']+'\", password=\"'+user['password']+'\",  consumer_key=\"menzvlhllhpwbtxav5x1dtwxufczc1fcvlh4ss3v\"',\n",
    "               'Content-Type': 'application/json'}\n",
    "    r=requests.post(url, headers=headers)\n",
    "    tok = json.loads(r.content.decode('utf-8'))['token']\n",
    "    # get transact\n",
    "    baseURL = 'https://openlab.openbankproject.com'\n",
    "    url = baseURL + '/obp/v3.1.0/banks/hsbc.02.hk.hsbc/accounts-held'\n",
    "    headers ={ 'Authorization': 'DirectLogin token=\"'+ tok +'\"'}\n",
    "    r=requests.get(url, headers=headers)\n",
    "\n",
    "    result=json.loads(r.content.decode('utf-8'))\n",
    "    accounts = result['accounts']\n",
    "    if(len(accounts)<1):\n",
    "        pass\n",
    "    print('processing: '+user['user_name'])\n",
    "    # Get transaction for each account\n",
    "    for ind in range(len(accounts)):\n",
    "        account = accounts[ind]\n",
    "        \n",
    "        # Get account balance\n",
    "        url = 'https://openlab.openbankproject.com/obp/v3.1.0/banks/hsbc.02.hk.hsbc/accounts/'+ account['id'] +'/owner/account'\n",
    "        headers = {\n",
    "            #'limit' : '100',\n",
    "            #'to_date' : '2019-06-12T00:00:00.000Z',\n",
    "            'Authorization': 'DirectLogin token=\"'+ tok +'\"'\n",
    "        }\n",
    "        r=requests.get(url, headers=headers)\n",
    "        results=json.loads(r.content.decode('utf-8'))\n",
    "        # Get transaction\n",
    "        url = 'https://openlab.openbankproject.com/obp/v3.1.0/banks/hsbc.02.hk.hsbc/accounts/'+ account['id'] +'/owner/transactions'\n",
    "        headers = {\n",
    "            'limit' : '100',\n",
    "            'to_date' : '2019-06-12T00:00:00.000Z',\n",
    "            'Authorization': 'DirectLogin token=\"'+ tok +'\"'\n",
    "        }\n",
    "        r=requests.get(url, headers=headers)\n",
    "        \n",
    "        print('no account: ' + str(ind+1))\n",
    "        fileName = 't_'+user['user_name']+'a_'+str(ind)+'.csv'\n",
    "        results=json.loads(r.content.decode('utf-8'))\n",
    "        \n",
    "        fp=open(fileName, 'a+')\n",
    "        fp.write('description,completed,value,new_balance\\n')\n",
    "        for result in results['transactions']:\n",
    "            result=result['details']\n",
    "            a=[result[x] for x in ['description', 'completed', 'value', 'new_balance']]\n",
    "            a[2]=a[2]['amount'] + a[2]['currency']\n",
    "            a[3]=a[3]['amount'] + a[3]['currency']\n",
    "            wr = csv.writer(fp, dialect='excel')\n",
    "            wr.writerow(a)\n",
    "        fp.close()\n"
   ]
  },
  {
   "cell_type": "code",
   "execution_count": 119,
   "metadata": {},
   "outputs": [
    {
     "data": {
      "text/plain": [
       "dict_keys(['id', 'this_account', 'other_account', 'details', 'metadata'])"
      ]
     },
     "execution_count": 119,
     "metadata": {},
     "output_type": "execute_result"
    }
   ],
   "source": [
    "# Each transaction consist of:\n",
    "results['transactions'][0].keys()\n",
    "\n",
    "# Only used details here"
   ]
  },
  {
   "cell_type": "code",
   "execution_count": null,
   "metadata": {},
   "outputs": [],
   "source": [
    "results['transactions'][0]['details']"
   ]
  }
 ],
 "metadata": {
  "kernelspec": {
   "display_name": "Python 3",
   "language": "python",
   "name": "python3"
  },
  "language_info": {
   "codemirror_mode": {
    "name": "ipython",
    "version": 3
   },
   "file_extension": ".py",
   "mimetype": "text/x-python",
   "name": "python",
   "nbconvert_exporter": "python",
   "pygments_lexer": "ipython3",
   "version": "3.7.3"
  }
 },
 "nbformat": 4,
 "nbformat_minor": 2
}
